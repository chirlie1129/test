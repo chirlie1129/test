{
 "cells": [
  {
   "cell_type": "code",
   "execution_count": 35,
   "metadata": {},
   "outputs": [],
   "source": [
    "from nltk import ngrams     \n",
    "import math"
   ]
  },
  {
   "cell_type": "code",
   "execution_count": 36,
   "metadata": {},
   "outputs": [],
   "source": [
    "def ngram_dct(n,sentence):\n",
    "    sixgrams = ngrams(sentence.lower().split(), n)\n",
    "    dct_ngram = {}\n",
    "    for grams in sixgrams:\n",
    "        try:\n",
    "            if dct_ngram[grams]:\n",
    "                dct_ngram[grams] = dct_ngram[grams]+1\n",
    "        except:\n",
    "            dct_ngram[grams] = 1\n",
    "    return dct_ngram   "
   ]
  },
  {
   "cell_type": "code",
   "execution_count": 37,
   "metadata": {},
   "outputs": [],
   "source": [
    "def ngram_probs(filename='raw_sentences.txt'):\n",
    "    file = open(filename,'r')\n",
    "    sentence = file.read()\n",
    "    bigram_probs = ngram_dct(2,sentence)\n",
    "    trigram_probs = ngram_dct(3,sentence)\n",
    "    file.close()\n",
    "    return bigram_probs,trigram_probs"
   ]
  },
  {
   "cell_type": "code",
   "execution_count": 38,
   "metadata": {},
   "outputs": [],
   "source": [
    "# Quiz 2-1: word counts"
   ]
  },
  {
   "cell_type": "code",
   "execution_count": 39,
   "metadata": {},
   "outputs": [],
   "source": [
    "cnt2,cnt3 = ngram_probs()"
   ]
  },
  {
   "cell_type": "code",
   "execution_count": 40,
   "metadata": {},
   "outputs": [
    {
     "data": {
      "text/plain": [
       "2480"
      ]
     },
     "execution_count": 40,
     "metadata": {},
     "output_type": "execute_result"
    }
   ],
   "source": [
    "cnt2[('we','are')]"
   ]
  },
  {
   "cell_type": "code",
   "execution_count": null,
   "metadata": {},
   "outputs": [],
   "source": [
    "#Quiz 2-2: next word probabilities"
   ]
  },
  {
   "cell_type": "code",
   "execution_count": 78,
   "metadata": {},
   "outputs": [],
   "source": [
    "def prob3(bigram, cnt2=cnt2, cnt3=cnt3):\n",
    "    N = 757172\n",
    "    cnt2_prob = {}\n",
    "    for key in cnt2.keys():\n",
    "        cnt2_prob[key] = cnt2[key]/N\n",
    "    cnt3_prob ={}\n",
    "    for key in cnt3.keys():\n",
    "        cnt3_prob[key]=cnt3[key]/N\n",
    "    dct_we_are = {}\n",
    "    for key in cnt3_prob.keys():\n",
    "        if 'we'in key[0]:\n",
    "            if 'are'in key[1]:\n",
    "                #print (key)\n",
    "                dct_we_are[key[2]] = math.log(cnt3_prob[key]/cnt2_prob[('we','are')])    \n",
    "    \n",
    "    return dct_we_are"
   ]
  },
  {
   "cell_type": "code",
   "execution_count": 79,
   "metadata": {},
   "outputs": [],
   "source": [
    "p = prob3(('we','are'))"
   ]
  },
  {
   "cell_type": "code",
   "execution_count": 80,
   "metadata": {},
   "outputs": [
    {
     "data": {
      "text/plain": [
       "-5.418118566360658"
      ]
     },
     "execution_count": 80,
     "metadata": {},
     "output_type": "execute_result"
    }
   ],
   "source": [
    "p['family']"
   ]
  },
  {
   "cell_type": "code",
   "execution_count": 81,
   "metadata": {},
   "outputs": [],
   "source": [
    "#Quiz 2-3: predicting the next word \n",
    "#Quiz 2-4: beam search"
   ]
  },
  {
   "cell_type": "code",
   "execution_count": null,
   "metadata": {},
   "outputs": [],
   "source": []
  }
 ],
 "metadata": {
  "kernelspec": {
   "display_name": "Python 3",
   "language": "python",
   "name": "python3"
  },
  "language_info": {
   "codemirror_mode": {
    "name": "ipython",
    "version": 3
   },
   "file_extension": ".py",
   "mimetype": "text/x-python",
   "name": "python",
   "nbconvert_exporter": "python",
   "pygments_lexer": "ipython3",
   "version": "3.6.5"
  }
 },
 "nbformat": 4,
 "nbformat_minor": 2
}
